{
 "cells": [
  {
   "cell_type": "code",
   "execution_count": null,
   "id": "2a0a4a17",
   "metadata": {},
   "outputs": [
    {
     "name": "stdout",
     "output_type": "stream",
     "text": [
      "📂 1. CSV 파일 불러오는 중...\n"
     ]
    },
    {
     "name": "stderr",
     "output_type": "stream",
     "text": [
      "/var/folders/ft/8lgr4z39495fd4styywx6v1r0000gn/T/ipykernel_5138/2951981547.py:7: DtypeWarning: Columns (5,6,7,9,10,11,12,13) have mixed types. Specify dtype option on import or set low_memory=False.\n",
      "  df = pd.read_csv(\"/Users/gana/Downloads/naver_final.csv\")\n"
     ]
    },
    {
     "name": "stdout",
     "output_type": "stream",
     "text": [
      "🧼 2. 결측값 처리 중...\n",
      "✍️ 3-1. 'story' 벡터화 중 (전체 단어 사용)...\n",
      "✅ story 완료: shape = (1048575, 28038)\n",
      "🏷 3-2. '해시태그(#)' 벡터화 중 (전체 단어 사용)...\n",
      "✅ hashtag 완료: shape = (1048575, 285)\n",
      "🔗 4. story + hashtag 벡터 병합 중...\n",
      "📊 5. 벡터를 DataFrame으로 변환 중...\n"
     ]
    },
    {
     "ename": "",
     "evalue": "",
     "output_type": "error",
     "traceback": [
      "\u001b[1;31mThe Kernel crashed while executing code in the current cell or a previous cell. \n",
      "\u001b[1;31mPlease review the code in the cell(s) to identify a possible cause of the failure. \n",
      "\u001b[1;31mClick <a href='https://aka.ms/vscodeJupyterKernelCrash'>here</a> for more info. \n",
      "\u001b[1;31mView Jupyter <a href='command:jupyter.viewOutput'>log</a> for further details."
     ]
    }
   ],
   "source": [
    "import pandas as pd\n",
    "from sklearn.feature_extraction.text import TfidfVectorizer\n",
    "from scipy.sparse import hstack\n",
    "\n",
    "# 1. 데이터 불러오기\n",
    "print(\"📂 1. CSV 파일 불러오는 중...\")\n",
    "df = pd.read_csv(\"/Users/gana/Downloads/naver_final.csv\")\n",
    "\n",
    "# 2. 결측값 처리\n",
    "print(\"🧼 2. 결측값 처리 중...\")\n",
    "df['story'] = df['story'].fillna('')\n",
    "df['#'] = df['#'].fillna('')\n",
    "\n",
    "# 3. TF-IDF 벡터화 (전체 단어 사용)\n",
    "print(\"✍️ 3-1. 'story' 벡터화 중 (전체 단어 사용)...\")\n",
    "story_vectorizer = TfidfVectorizer()\n",
    "X_story = story_vectorizer.fit_transform(df['story'])\n",
    "print(f\"✅ story 완료: shape = {X_story.shape}\")\n",
    "\n",
    "print(\"🏷 3-2. '해시태그(#)' 벡터화 중 (전체 단어 사용)...\")\n",
    "hashtag_vectorizer = TfidfVectorizer()\n",
    "X_hashtag = hashtag_vectorizer.fit_transform(df['#'])\n",
    "print(f\"✅ hashtag 완료: shape = {X_hashtag.shape}\")\n",
    "\n",
    "# 4. 수평 결합\n",
    "print(\"🔗 4. story + hashtag 벡터 병합 중...\")\n",
    "X_combined = hstack([X_story, X_hashtag])\n",
    "\n",
    "# 5. 데이터프레임 변환\n",
    "print(\"📊 5. 벡터를 DataFrame으로 변환 중...\")\n",
    "story_df = pd.DataFrame(X_story.toarray(), columns=[f\"story_{w}\" for w in story_vectorizer.get_feature_names_out()])\n",
    "hashtag_df = pd.DataFrame(X_hashtag.toarray(), columns=[f\"tag_{w}\" for w in hashtag_vectorizer.get_feature_names_out()])\n",
    "tfidf_df = pd.concat([story_df, hashtag_df], axis=1)\n",
    "\n",
    "# 6. 원본 데이터와 결합\n",
    "print(\"🧩 6. 원본 데이터와 TF-IDF 벡터 결합 중...\")\n",
    "df_combined = pd.concat([df.reset_index(drop=True), tfidf_df.reset_index(drop=True)], axis=1)\n",
    "\n",
    "# 7. 저장\n",
    "print(\"💾 7. CSV 파일 저장 중... (naver_final_with_all_tfidf.csv)\")\n",
    "df_combined.to_csv(\"naver_final_with_all_tfidf.csv\", index=False)\n",
    "print(\"🎉 완료! 생성된 파일: naver_final_with_all_tfidf.csv\")\n"
   ]
  }
 ],
 "metadata": {
  "kernelspec": {
   "display_name": "base",
   "language": "python",
   "name": "python3"
  },
  "language_info": {
   "codemirror_mode": {
    "name": "ipython",
    "version": 3
   },
   "file_extension": ".py",
   "mimetype": "text/x-python",
   "name": "python",
   "nbconvert_exporter": "python",
   "pygments_lexer": "ipython3",
   "version": "3.12.7"
  }
 },
 "nbformat": 4,
 "nbformat_minor": 5
}
